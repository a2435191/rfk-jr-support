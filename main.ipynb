{
 "cells": [
  {
   "cell_type": "code",
   "execution_count": 258,
   "metadata": {},
   "outputs": [],
   "source": [
    "import pandas as pd\n",
    "import matplotlib.pyplot as plt\n",
    "import matplotlib.dates as mdate\n",
    "import matplotlib as mpl\n",
    "import datetime"
   ]
  },
  {
   "cell_type": "code",
   "execution_count": 259,
   "metadata": {},
   "outputs": [],
   "source": [
    "BIDEN_ID = 19368\n",
    "RFK_JR_ID = 30987"
   ]
  },
  {
   "cell_type": "code",
   "execution_count": 260,
   "metadata": {},
   "outputs": [],
   "source": [
    "df = pd.read_csv(\"https://projects.fivethirtyeight.com/polls/data/president_primary_polls.csv\")"
   ]
  },
  {
   "cell_type": "code",
   "execution_count": 261,
   "metadata": {},
   "outputs": [],
   "source": [
    "polls_with_biden = df[[\"question_id\", \"candidate_id\"]]\\\n",
    "    .groupby(\"question_id\")\\\n",
    "    .agg(lambda candidates: BIDEN_ID in list(candidates))\\\n",
    "    .to_dict()\\\n",
    "    ['candidate_id']"
   ]
  },
  {
   "cell_type": "code",
   "execution_count": 262,
   "metadata": {},
   "outputs": [],
   "source": [
    "df = df[(df['party'] == 'DEM') & (df['question_id'].apply(lambda id: polls_with_biden[id])) & (df['candidate_id'] == RFK_JR_ID)]\n"
   ]
  },
  {
   "cell_type": "code",
   "execution_count": 263,
   "metadata": {},
   "outputs": [],
   "source": [
    "grade_to_score = {\n",
    "    \"A+\": 1,\n",
    "    \"A\": 0.95,\n",
    "    \"A-\": 0.9,\n",
    "    \"B+\": 0.85,\n",
    "    \"B\": 0.8,\n",
    "    \"B-\": 0.75,\n",
    "    \"C+\": 0.7,\n",
    "    \"C\": 0.65,\n",
    "    \"C-\": 0.6,\n",
    "    \"D+\": 0.55,\n",
    "    \"D\": 0.5,\n",
    "    \"D-\": 0.45,\n",
    "    \"F\": 0.1\n",
    "}\n",
    "grade_to_score[\"A/B\"] = (grade_to_score[\"A\"] + grade_to_score[\"B\"]) / 2\n",
    "grade_to_score[\"B/C\"] = (grade_to_score[\"B\"] + grade_to_score[\"C\"]) / 2\n",
    "grade_to_score[\"C/D\"] = (grade_to_score[\"C\"] + grade_to_score[\"D\"]) / 2\n",
    "grade_to_score[\"D/F\"] = (grade_to_score[\"D\"] + grade_to_score[\"F\"]) / 2"
   ]
  },
  {
   "cell_type": "code",
   "execution_count": 264,
   "metadata": {},
   "outputs": [],
   "source": [
    "cmap = plt.get_cmap(\"Blues\")\n",
    "bounds = sorted(grade_to_score.values())\n",
    "norm = mpl.colors.BoundaryNorm(bounds, cmap.N)"
   ]
  },
  {
   "cell_type": "code",
   "execution_count": 265,
   "metadata": {},
   "outputs": [],
   "source": [
    "df['pollster_score'] = df['fte_grade'].map(grade_to_score)"
   ]
  },
  {
   "cell_type": "code",
   "execution_count": 266,
   "metadata": {},
   "outputs": [
    {
     "name": "stderr",
     "output_type": "stream",
     "text": [
      "/var/folders/8q/911ddsf164j4ddftj0q7sx_c0000gn/T/ipykernel_61226/3554412173.py:3: UserWarning: Could not infer format, so each element will be parsed individually, falling back to `dateutil`. To ensure parsing is consistent and as-expected, please specify a format.\n",
      "  dates = pd.to_datetime(df['end_date'])\n"
     ]
    },
    {
     "ename": "TypeError",
     "evalue": "'norm' must be an instance of matplotlib.colors.Normalize, str or None, not a function",
     "output_type": "error",
     "traceback": [
      "\u001b[0;31m---------------------------------------------------------------------------\u001b[0m",
      "\u001b[0;31mTypeError\u001b[0m                                 Traceback (most recent call last)",
      "Cell \u001b[0;32mIn[266], line 4\u001b[0m\n\u001b[1;32m      1\u001b[0m fig, ax \u001b[39m=\u001b[39m plt\u001b[39m.\u001b[39msubplots()\n\u001b[1;32m      3\u001b[0m dates \u001b[39m=\u001b[39m pd\u001b[39m.\u001b[39mto_datetime(df[\u001b[39m'\u001b[39m\u001b[39mend_date\u001b[39m\u001b[39m'\u001b[39m])\n\u001b[0;32m----> 4\u001b[0m ax\u001b[39m.\u001b[39;49mscatter(dates, df[\u001b[39m'\u001b[39;49m\u001b[39mpct\u001b[39;49m\u001b[39m'\u001b[39;49m], c\u001b[39m=\u001b[39;49mdf[\u001b[39m'\u001b[39;49m\u001b[39mpollster_score\u001b[39;49m\u001b[39m'\u001b[39;49m], cmap\u001b[39m=\u001b[39;49mcmap, norm\u001b[39m=\u001b[39;49mnorm, lw\u001b[39m=\u001b[39;49m\u001b[39m0.2\u001b[39;49m, ec\u001b[39m=\u001b[39;49m\u001b[39m'\u001b[39;49m\u001b[39mblack\u001b[39;49m\u001b[39m'\u001b[39;49m)\n\u001b[1;32m      5\u001b[0m ax\u001b[39m.\u001b[39mset_xticks(dates, labels\u001b[39m=\u001b[39mdates, rotation\u001b[39m=\u001b[39m\u001b[39m'\u001b[39m\u001b[39mvertical\u001b[39m\u001b[39m'\u001b[39m)\n\u001b[1;32m      7\u001b[0m months \u001b[39m=\u001b[39m mdate\u001b[39m.\u001b[39mMonthLocator(interval\u001b[39m=\u001b[39m\u001b[39m1\u001b[39m)\n",
      "File \u001b[0;32m/opt/homebrew/lib/python3.11/site-packages/matplotlib/__init__.py:1442\u001b[0m, in \u001b[0;36m_preprocess_data.<locals>.inner\u001b[0;34m(ax, data, *args, **kwargs)\u001b[0m\n\u001b[1;32m   1439\u001b[0m \u001b[39m@functools\u001b[39m\u001b[39m.\u001b[39mwraps(func)\n\u001b[1;32m   1440\u001b[0m \u001b[39mdef\u001b[39;00m \u001b[39minner\u001b[39m(ax, \u001b[39m*\u001b[39margs, data\u001b[39m=\u001b[39m\u001b[39mNone\u001b[39;00m, \u001b[39m*\u001b[39m\u001b[39m*\u001b[39mkwargs):\n\u001b[1;32m   1441\u001b[0m     \u001b[39mif\u001b[39;00m data \u001b[39mis\u001b[39;00m \u001b[39mNone\u001b[39;00m:\n\u001b[0;32m-> 1442\u001b[0m         \u001b[39mreturn\u001b[39;00m func(ax, \u001b[39m*\u001b[39;49m\u001b[39mmap\u001b[39;49m(sanitize_sequence, args), \u001b[39m*\u001b[39;49m\u001b[39m*\u001b[39;49mkwargs)\n\u001b[1;32m   1444\u001b[0m     bound \u001b[39m=\u001b[39m new_sig\u001b[39m.\u001b[39mbind(ax, \u001b[39m*\u001b[39margs, \u001b[39m*\u001b[39m\u001b[39m*\u001b[39mkwargs)\n\u001b[1;32m   1445\u001b[0m     auto_label \u001b[39m=\u001b[39m (bound\u001b[39m.\u001b[39marguments\u001b[39m.\u001b[39mget(label_namer)\n\u001b[1;32m   1446\u001b[0m                   \u001b[39mor\u001b[39;00m bound\u001b[39m.\u001b[39mkwargs\u001b[39m.\u001b[39mget(label_namer))\n",
      "File \u001b[0;32m/opt/homebrew/lib/python3.11/site-packages/matplotlib/axes/_axes.py:4686\u001b[0m, in \u001b[0;36mAxes.scatter\u001b[0;34m(self, x, y, s, c, marker, cmap, norm, vmin, vmax, alpha, linewidths, edgecolors, plotnonfinite, **kwargs)\u001b[0m\n\u001b[1;32m   4684\u001b[0m     collection\u001b[39m.\u001b[39mset_array(c)\n\u001b[1;32m   4685\u001b[0m     collection\u001b[39m.\u001b[39mset_cmap(cmap)\n\u001b[0;32m-> 4686\u001b[0m     collection\u001b[39m.\u001b[39;49mset_norm(norm)\n\u001b[1;32m   4687\u001b[0m     collection\u001b[39m.\u001b[39m_scale_norm(norm, vmin, vmax)\n\u001b[1;32m   4688\u001b[0m \u001b[39melse\u001b[39;00m:\n",
      "File \u001b[0;32m/opt/homebrew/lib/python3.11/site-packages/matplotlib/cm.py:636\u001b[0m, in \u001b[0;36mScalarMappable.set_norm\u001b[0;34m(self, norm)\u001b[0m\n\u001b[1;32m    622\u001b[0m \u001b[39mdef\u001b[39;00m \u001b[39mset_norm\u001b[39m(\u001b[39mself\u001b[39m, norm):\n\u001b[1;32m    623\u001b[0m \u001b[39m    \u001b[39m\u001b[39m\"\"\"\u001b[39;00m\n\u001b[1;32m    624\u001b[0m \u001b[39m    Set the normalization instance.\u001b[39;00m\n\u001b[1;32m    625\u001b[0m \n\u001b[0;32m   (...)\u001b[0m\n\u001b[1;32m    634\u001b[0m \u001b[39m    on the colorbar to default.\u001b[39;00m\n\u001b[1;32m    635\u001b[0m \u001b[39m    \"\"\"\u001b[39;00m\n\u001b[0;32m--> 636\u001b[0m     \u001b[39mself\u001b[39;49m\u001b[39m.\u001b[39;49mnorm \u001b[39m=\u001b[39m norm\n",
      "File \u001b[0;32m/opt/homebrew/lib/python3.11/site-packages/matplotlib/cm.py:595\u001b[0m, in \u001b[0;36mScalarMappable.norm\u001b[0;34m(self, norm)\u001b[0m\n\u001b[1;32m    593\u001b[0m \u001b[39m@norm\u001b[39m\u001b[39m.\u001b[39msetter\n\u001b[1;32m    594\u001b[0m \u001b[39mdef\u001b[39;00m \u001b[39mnorm\u001b[39m(\u001b[39mself\u001b[39m, norm):\n\u001b[0;32m--> 595\u001b[0m     _api\u001b[39m.\u001b[39;49mcheck_isinstance((colors\u001b[39m.\u001b[39;49mNormalize, \u001b[39mstr\u001b[39;49m, \u001b[39mNone\u001b[39;49;00m), norm\u001b[39m=\u001b[39;49mnorm)\n\u001b[1;32m    596\u001b[0m     \u001b[39mif\u001b[39;00m norm \u001b[39mis\u001b[39;00m \u001b[39mNone\u001b[39;00m:\n\u001b[1;32m    597\u001b[0m         norm \u001b[39m=\u001b[39m colors\u001b[39m.\u001b[39mNormalize()\n",
      "File \u001b[0;32m/opt/homebrew/lib/python3.11/site-packages/matplotlib/_api/__init__.py:93\u001b[0m, in \u001b[0;36mcheck_isinstance\u001b[0;34m(_types, **kwargs)\u001b[0m\n\u001b[1;32m     91\u001b[0m     names\u001b[39m.\u001b[39mremove(\u001b[39m\"\u001b[39m\u001b[39mNone\u001b[39m\u001b[39m\"\u001b[39m)\n\u001b[1;32m     92\u001b[0m     names\u001b[39m.\u001b[39mappend(\u001b[39m\"\u001b[39m\u001b[39mNone\u001b[39m\u001b[39m\"\u001b[39m)\n\u001b[0;32m---> 93\u001b[0m \u001b[39mraise\u001b[39;00m \u001b[39mTypeError\u001b[39;00m(\n\u001b[1;32m     94\u001b[0m     \u001b[39m\"\u001b[39m\u001b[39m{!r}\u001b[39;00m\u001b[39m must be an instance of \u001b[39m\u001b[39m{}\u001b[39;00m\u001b[39m, not a \u001b[39m\u001b[39m{}\u001b[39;00m\u001b[39m\"\u001b[39m\u001b[39m.\u001b[39mformat(\n\u001b[1;32m     95\u001b[0m         k,\n\u001b[1;32m     96\u001b[0m         \u001b[39m\"\u001b[39m\u001b[39m, \u001b[39m\u001b[39m\"\u001b[39m\u001b[39m.\u001b[39mjoin(names[:\u001b[39m-\u001b[39m\u001b[39m1\u001b[39m]) \u001b[39m+\u001b[39m \u001b[39m\"\u001b[39m\u001b[39m or \u001b[39m\u001b[39m\"\u001b[39m \u001b[39m+\u001b[39m names[\u001b[39m-\u001b[39m\u001b[39m1\u001b[39m]\n\u001b[1;32m     97\u001b[0m         \u001b[39mif\u001b[39;00m \u001b[39mlen\u001b[39m(names) \u001b[39m>\u001b[39m \u001b[39m1\u001b[39m \u001b[39melse\u001b[39;00m names[\u001b[39m0\u001b[39m],\n\u001b[1;32m     98\u001b[0m         type_name(\u001b[39mtype\u001b[39m(v))))\n",
      "\u001b[0;31mTypeError\u001b[0m: 'norm' must be an instance of matplotlib.colors.Normalize, str or None, not a function"
     ]
    },
    {
     "data": {
      "image/png": "[encoded data removed]",
      "text/plain": [
       "<Figure size 640x480 with 1 Axes>"
      ]
     },
     "metadata": {},
     "output_type": "display_data"
    }
   ],
   "source": [
    "fig, ax = plt.subplots()\n",
    "\n",
    "dates = pd.to_datetime(df['end_date'])\n",
    "ax.scatter(dates, df['pct'], c=df['pollster_score'], cmap=cmap, norm=norm, lw=0.2, ec='black')\n",
    "ax.set_xticks(dates, labels=dates, rotation='vertical')\n",
    "\n",
    "months = mdate.MonthLocator(interval=1)\n",
    "months_fmt = mdate.DateFormatter('%d %b %Y')\n",
    "ax.xaxis.set_major_locator(months)\n",
    "ax.xaxis.set_major_formatter(months_fmt)\n",
    "\n",
    "ax.set_ylim(0, 100)\n",
    "\n",
    "\n",
    "cb = fig.colorbar(mpl.cm.ScalarMappable(norm=norm, cmap=cmap))\n",
    "grade_ticks_to_display = sorted(df['pollster_score'].unique())\n",
    "cb.ax.set_yticks(grade_ticks_to_display)\n",
    "cb.ax.set_yticklabels(sorted(df['fte_grade'].unique(), key=lambda letter_grade: grade_to_score[letter_grade]))\n",
    "cb.ax.set_ylabel(\"538 pollster score\")\n",
    "\n",
    "\n",
    "ax.set_xlabel(\"Polling end date\")\n",
    "ax.set_ylabel(\"Measured support (%)\")\n",
    "\n",
    "current_date = datetime.date.today()\n",
    "ax.set_title(f\"538 polling of RFK Jr. support in 2024 Democratic primary\\n(as of {current_date.strftime('%d %b %Y')})\")\n",
    "\n",
    "fig.text(0, -0.20, f\"Will Bradley {current_date.year}\\nOnly includes poll questions with both Biden and Kennedy.\")"
   ]
  },
  {
   "cell_type": "code",
   "execution_count": null,
   "metadata": {},
   "outputs": [],
   "source": [
    "fig.savefig(\"plot.png\", bbox_inches=\"tight\", dpi=700)"
   ]
  }
 ],
 "metadata": {
  "kernelspec": {
   "display_name": "Python 3",
   "language": "python",
   "name": "python3"
  },
  "language_info": {
   "codemirror_mode": {
    "name": "ipython",
    "version": 3
   },
   "file_extension": ".py",
   "mimetype": "text/x-python",
   "name": "python",
   "nbconvert_exporter": "python",
   "pygments_lexer": "ipython3",
   "version": "3.11.4"
  },
  "orig_nbformat": 4
 },
 "nbformat": 4,
 "nbformat_minor": 2
}
